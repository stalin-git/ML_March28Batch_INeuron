{
 "cells": [
  {
   "cell_type": "markdown",
   "metadata": {},
   "source": [
    "1.1 Write a Python Program(with class concepts) to find the area of the triangle using the below\n",
    "formula.\n",
    "area = (s*(s-a)*(s-b)*(s-c)) ** 0.5\n",
    "Function to take the length of the sides of triangle from user should be defined in the parent\n",
    "class and function to calculate the area should be defined in subclass.\n"
   ]
  },
  {
   "cell_type": "code",
   "execution_count": 31,
   "metadata": {},
   "outputs": [
    {
     "name": "stdout",
     "output_type": "stream",
     "text": [
      "Please provide length of first side of a triangle: 20\n",
      "Please provide length of second side of a triangle: 30\n",
      "Please provide length of third side of a triangle: 40\n",
      "Area of Triangle is : 290.473751\n"
     ]
    }
   ],
   "source": [
    "class Triangle:\n",
    "    def getLengthOfSideOfTriangle(self):\n",
    "        values = [\"first\", \"second\", \"third\"]\n",
    "        sides = []\n",
    "        for index in values :\n",
    "            inputValue = input(\"Please provide length of {} side of a triangle: \".format(index))\n",
    "            sides.append((inputValue))\n",
    "        return sides\n",
    "\n",
    "class Triangle_Area(Triangle):\n",
    "    def getAreaOfTriangle(self, lengthOfSideOfTriangle):\n",
    "        a = int(lengthOfSideOfTriangle[0])\n",
    "        b = int(lengthOfSideOfTriangle[1])\n",
    "        c = int(lengthOfSideOfTriangle[2])\n",
    "        \n",
    "        s = (a + b + c)/2\n",
    "        \n",
    "        area = (s*(s-a)*(s-b)*(s-c)) ** 0.5\n",
    "        print(\"Area of Triangle is : %f\" %(area))\n",
    "        \n",
    "triangle_Area = Triangle_Area()\n",
    "lengthOfSideOfTriangle = triangle_Area.getLengthOfSideOfTriangle()\n",
    "triangle_Area.getAreaOfTriangle(lengthOfSideOfTriangle)\n"
   ]
  },
  {
   "cell_type": "markdown",
   "metadata": {},
   "source": [
    "1.2 Write a function filter_long_words() that takes a list of words and an integer n and returns\n",
    "the list of words that are longer than n."
   ]
  },
  {
   "cell_type": "code",
   "execution_count": 10,
   "metadata": {},
   "outputs": [
    {
     "name": "stdout",
     "output_type": "stream",
     "text": [
      "Enter words with a comma: Bangalore,Mumbai,Delhi,Chennai,Hyderabad\n",
      "Give an number to give list of words more than this length: 6\n",
      "['Bangalore', 'Chennai', 'Hyderabad']\n"
     ]
    }
   ],
   "source": [
    "word_list_input = input(\"Enter words with a comma: \")\n",
    "length_n = int(input(\"Give an number to give list of words more than this length: \"))\n",
    "new_word_list = list(word_list_input.split(','))\n",
    "\n",
    "def filter_long_words(new_word_list,length_n):\n",
    "    final_list =[]\n",
    "    for index in new_word_list:\n",
    "        if len(index)>length_n:\n",
    "            final_list.append(index)\n",
    "    else:\n",
    "        if(len(final_list)==0):\n",
    "            print(\"No Items in the given words list are greater than the length %d\" %(length_n))\n",
    "\n",
    "    return final_list\n",
    "\n",
    "final_word_list = filter_long_words(new_word_list,length_n)\n",
    "print(final_word_list)\n",
    "    "
   ]
  },
  {
   "cell_type": "markdown",
   "metadata": {},
   "source": [
    "2.1 Write a Python program using function concept that maps list of words into a list of integers\n",
    "representing the lengths of the corresponding words.\n",
    "Hint: If a list [ ab,cde,erty] is passed on to the python function output should come as [2,3,4]\n",
    "Here 2,3 and 4 are the lengths of the words in the list"
   ]
  },
  {
   "cell_type": "code",
   "execution_count": 14,
   "metadata": {},
   "outputs": [
    {
     "name": "stdout",
     "output_type": "stream",
     "text": [
      "Enter words with a comma: Bangalore,Mumbai,Delhi,Hyderabad,Chennai\n",
      "[9, 6, 5, 9, 7]\n"
     ]
    }
   ],
   "source": [
    "word_list_input = input(\"Enter words with a comma: \")\n",
    "\n",
    "def length_of_words(word_list_input):\n",
    "    word_length_list = []\n",
    "    new_word_list = list(word_list_input.split(','))\n",
    "    for index in new_word_list:\n",
    "        word_length_list.append(len(index))\n",
    "    return word_length_list\n",
    "\n",
    "final_length_words = length_of_words(word_list_input)\n",
    "print(final_length_words)\n",
    "    \n"
   ]
  },
  {
   "cell_type": "markdown",
   "metadata": {},
   "source": [
    "2.2 Write a Python function which takes a character (i.e. a string of length 1) and returns True if\n",
    "it is a vowel, False otherwise."
   ]
  },
  {
   "cell_type": "code",
   "execution_count": 29,
   "metadata": {},
   "outputs": [
    {
     "name": "stdout",
     "output_type": "stream",
     "text": [
      "Enter a character: z\n",
      "False\n"
     ]
    }
   ],
   "source": [
    "input_string = input(\"Enter a character: \")\n",
    "\n",
    "def check_vowel(input_string):\n",
    "    vowels =['a','e','i','o','u']\n",
    "    for index in vowels:\n",
    "        if(input_string==index):\n",
    "            return True\n",
    "            break\n",
    "    else:\n",
    "        return False\n",
    "\n",
    "\n",
    "print(check_vowel(input_string))        \n",
    "    "
   ]
  }
 ],
 "metadata": {
  "kernelspec": {
   "display_name": "Python 3",
   "language": "python",
   "name": "python3"
  },
  "language_info": {
   "codemirror_mode": {
    "name": "ipython",
    "version": 3
   },
   "file_extension": ".py",
   "mimetype": "text/x-python",
   "name": "python",
   "nbconvert_exporter": "python",
   "pygments_lexer": "ipython3",
   "version": "3.7.4"
  }
 },
 "nbformat": 4,
 "nbformat_minor": 2
}
