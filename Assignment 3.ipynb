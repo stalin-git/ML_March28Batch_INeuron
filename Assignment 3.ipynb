{
 "cells": [
  {
   "cell_type": "markdown",
   "metadata": {},
   "source": [
    "1.1 Write a Python Program to implement your own myreduce() function which works exactly\n",
    "like Python's built-in function reduce()"
   ]
  },
  {
   "cell_type": "code",
   "execution_count": 10,
   "metadata": {},
   "outputs": [
    {
     "data": {
      "text/plain": [
       "int"
      ]
     },
     "execution_count": 10,
     "metadata": {},
     "output_type": "execute_result"
    }
   ],
   "source": [
    "def myreduce(fun, alist):\n",
    "    x = alist[0]\n",
    "    \n",
    "    for i in range(1, len(alist)):\n",
    "        x = fun(x, alist[i])\n",
    "    \n",
    "    return x\n",
    "\n",
    "def summ(x1, x2):\n",
    "    return x1 + x2\n",
    "\n",
    "def Subtraction(x1, x2):\n",
    "    return(x1 - x2)\n",
    "\n",
    "a = [1, 2, 3, 4, 5]\n",
    "\n",
    "print(\"Sum of all element in list a :\", myreduce(summ, a))\n",
    "print(\"Product of all elements in list a :\", myreduce(Subtraction, a))"
   ]
  },
  {
   "cell_type": "markdown",
   "metadata": {},
   "source": [
    "1.2 Write a Python program to implement your own myfilter() function which works exactly\n",
    "like Python's built-in function filter()"
   ]
  },
  {
   "cell_type": "code",
   "execution_count": 5,
   "metadata": {},
   "outputs": [
    {
     "name": "stdout",
     "output_type": "stream",
     "text": [
      "Even Numbers in the list:  [2, 4, 6, 8, 10]\n",
      "Odd Numbers in the list:  [1, 3, 5, 7, 9]\n"
     ]
    }
   ],
   "source": [
    "def myfilter(fun, alist):\n",
    "    \n",
    "    x=[]\n",
    "    for i in range(0, len(alist)):\n",
    "        if fun(alist[i]) == True:\n",
    "            x.append(alist[i])             \n",
    "    return x\n",
    "    \n",
    "\n",
    "def even_check(x1):\n",
    "    if x1%2 == 0:\n",
    "        return True\n",
    "\n",
    "\n",
    "def odd_check(x1):\n",
    "    if x1%2 != 0:\n",
    "        return True \n",
    "\n",
    "a = [1, 2, 3, 4, 5,6,7,8,9,10]\n",
    "\n",
    "print(\"Even Numbers in the list: \", myfilter(even_check, a))\n",
    "print(\"Odd Numbers in the list: \", myfilter(odd_check, a))\n",
    "\n",
    "\n"
   ]
  },
  {
   "cell_type": "markdown",
   "metadata": {},
   "source": [
    "2. Implement List comprehensions to produce the following lists.\n",
    "Write List comprehensions to produce the following Lists\n",
    "['x', 'xx', 'xxx', 'xxxx', 'y', 'yy', 'yyy', 'yyyy', 'z', 'zz', 'zzz', 'zzzz']\n",
    "['x', 'y', 'z', 'xx', 'yy', 'zz', 'xxx', 'yyy', 'zzz', 'xxxx', 'yyyy', 'zzzz']\n",
    "[[2], [3], [4], [3], [4], [5], [4], [5], [6]] [[2, 3, 4, 5], [3, 4, 5, 6],\n",
    "[4, 5, 6, 7], [5, 6, 7, 8]]\n",
    "[(1, 1), (2, 1), (3, 1), (1, 2), (2, 2), (3, 2), (1, 3), (2, 3), (3, 3)]"
   ]
  },
  {
   "cell_type": "code",
   "execution_count": 26,
   "metadata": {},
   "outputs": [
    {
     "name": "stdout",
     "output_type": "stream",
     "text": [
      "['x','y','z'] ==>['x', 'xx', 'xxx', 'xxxx', 'y', 'yy', 'yyy', 'yyyy', 'z', 'zz', 'zzz', 'zzzz']\n",
      "['x','y','z'] ==>['x', 'y', 'z', 'xx', 'yy', 'zz', 'xxx', 'yyy', 'zzz', 'xxxx', 'yyyy', 'zzzz']\n",
      "[2,3,4] =>[[2], [3], [4], [3], [4], [5], [4], [5], [6]]\n",
      "[2,3,4,5] =>[[2, 3, 4, 5], [3, 4, 5, 6], [4, 5, 6, 7], [5, 6, 7, 8]]\n",
      "[1,2,3] =>[(1, 1), (2, 1), (3, 1), (1, 2), (2, 2), (3, 2), (1, 3), (2, 3), (3, 3)]\n"
     ]
    }
   ],
   "source": [
    "\n",
    "#########################################\n",
    "## second list comprehension ['x', 'xx', 'xxx', 'xxxx', 'y', 'yy', 'yyy', 'yyyy', 'z', 'zz', 'zzz', 'zzzz']\n",
    "#########################################\n",
    "string_list =['x','y','z']\n",
    "string_list_comp =[item*num for item in string_list for num in range(1,5)]\n",
    "print(\"['x','y','z'] ==>\" +str(string_list_comp))\n",
    "\n",
    "#########################################\n",
    "## second list comprehension ['x', 'y', 'z', 'xx', 'yy', 'zz', 'xxx', 'yyy', 'zzz', 'xxxx', 'yyyy', 'zzzz']\n",
    "#########################################\n",
    "second_string_list=['x','y','z']\n",
    "second_string_list_result=[item*num for num in range(1,5) for item in second_string_list]\n",
    "print(\"['x','y','z'] ==>\"+str(second_string_list_result))\n",
    "\n",
    "#########################################\n",
    "## Third list comprehension [[2], [3], [4], [3], [4], [5], [4], [5], [6]]\n",
    "#########################################\n",
    "input_list = [2,3,4]\n",
    "result = [ [item+num] for item in input_list for num in range(0,3)]\n",
    "print(\"[2,3,4] =>\" +  str(result))\n",
    "\n",
    "###########################################################\n",
    "### Fourth List comprehension 2, 3, 4, 5], [3, 4, 5, 6],\n",
    "\n",
    "###[4, 5, 6, 7], [5, 6, 7, 8]]\n",
    "###########################################################\n",
    "input_list=[2,3,4,5]\n",
    "result=[ [item+num for item in input_list] for num in range(0,4)]\n",
    "print(\"[2,3,4,5] =>\"+str(result))\n",
    "        \n",
    "###########################################################\n",
    "##############   [(1, 1), (2, 1), (3, 1), (1, 2), (2, 2), (3, 2), (1, 3), (2, 3), (3, 3)]\n",
    "#########################################################\n",
    "input_list=[1,2,3]\n",
    "result=[(j,i) for i in input_list for j in input_list]\n",
    "print(\"[1,2,3] =>\"+str(result))\n",
    "\n",
    "  \n",
    "\n"
   ]
  }
 ],
 "metadata": {
  "kernelspec": {
   "display_name": "Python 3",
   "language": "python",
   "name": "python3"
  },
  "language_info": {
   "codemirror_mode": {
    "name": "ipython",
    "version": 3
   },
   "file_extension": ".py",
   "mimetype": "text/x-python",
   "name": "python",
   "nbconvert_exporter": "python",
   "pygments_lexer": "ipython3",
   "version": "3.7.4"
  }
 },
 "nbformat": 4,
 "nbformat_minor": 2
}
